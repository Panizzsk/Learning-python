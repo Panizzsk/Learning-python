{
 "cells": [
  {
   "cell_type": "markdown",
   "metadata": {},
   "source": [
    "# Q1:\n",
    "Ask for two numbers. If\n",
    "the first one is larger\n",
    "than the second, display\n",
    "the second number first\n",
    "and then the first\n",
    "number, otherwise show\n",
    "the first number first and\n",
    "then the second."
   ]
  },
  {
   "cell_type": "code",
   "execution_count": 3,
   "metadata": {},
   "outputs": [
    {
     "name": "stdout",
     "output_type": "stream",
     "text": [
      "3 , 8\n"
     ]
    }
   ],
   "source": [
    "a= input(\"enter a number\")\n",
    "b= input(\"enter a number again\")\n",
    "if a>b :\n",
    "    print(b,\",\", a)\n",
    "else:\n",
    "    print(a,\",\", b)\n"
   ]
  },
  {
   "cell_type": "markdown",
   "metadata": {},
   "source": [
    "# Q2:\n",
    "Ask the user to enter a\n",
    "number that is under\n",
    "20. If they enter a\n",
    "number that is 20 or\n",
    "more, display the\n",
    "message “Too high”,\n",
    "otherwise display\n",
    "“Thank you”."
   ]
  },
  {
   "cell_type": "code",
   "execution_count": 6,
   "metadata": {},
   "outputs": [
    {
     "name": "stdout",
     "output_type": "stream",
     "text": [
      "too high\n"
     ]
    }
   ],
   "source": [
    "a= int(input(\"enter a number under 20\"))\n",
    "if a>=20:\n",
    "    print(\"too high\")\n",
    "else:\n",
    "    print(\"thank you\")"
   ]
  },
  {
   "cell_type": "markdown",
   "metadata": {},
   "source": [
    "# Q3:\n",
    "Ask the user to enter a\n",
    "number between 10 and 20\n",
    "(inclusive). If they enter a\n",
    "number within this range,\n",
    "display the message “Thank\n",
    "you”, otherwise display the\n",
    "message “Incorrect\n",
    "answer”."
   ]
  },
  {
   "cell_type": "code",
   "execution_count": 7,
   "metadata": {},
   "outputs": [
    {
     "name": "stdout",
     "output_type": "stream",
     "text": [
      "incorrect answer\n"
     ]
    }
   ],
   "source": [
    "a= int(input(\"enter a number between 10 ,20\"))\n",
    "if a<=20 & a>=10 :\n",
    "    print(\"thank you\")\n",
    "else:\n",
    "    print(\"incorrect answer\")\n"
   ]
  },
  {
   "cell_type": "markdown",
   "metadata": {},
   "source": [
    "# Q4:\n",
    "Ask the user to enter their favourite colour. If they enter “red”, “RED” or\n",
    "“Red” display the message “I like red too”, otherwise display the message\n",
    "“I don’t like [colour], I prefer red"
   ]
  },
  {
   "cell_type": "code",
   "execution_count": 12,
   "metadata": {},
   "outputs": [
    {
     "name": "stdout",
     "output_type": "stream",
     "text": [
      "i don't like blue ,i prefer red\n"
     ]
    }
   ],
   "source": [
    "colour= input(\"entor your fav colour\")\n",
    "if colour==\"red\":\n",
    "    print(\"i like red too\")\n",
    "elif colour==\"RED\" :\n",
    "    print(\"i like red too\")\n",
    "elif colour==\"Red\":\n",
    "    print(\"i like red too\")\n",
    "else:\n",
    "    print(\"i don't like\",colour,\",i prefer red\")"
   ]
  },
  {
   "cell_type": "markdown",
   "metadata": {},
   "source": [
    "# Q5:\n",
    "Ask the user if it is raining and convert their answer to lower case\n",
    "so it doesn’t matter what case they type it in. If they answer “yes”,\n",
    "ask if it is windy. If they answer “yes” to this second question,\n",
    "display the answer “It is too windy for an umbrella”, otherwise\n",
    "display the message “Take an umbrella”. If they did not answer yes\n",
    "to the first question, display the answer “Enjoy your day”."
   ]
  },
  {
   "cell_type": "code",
   "execution_count": 15,
   "metadata": {},
   "outputs": [
    {
     "name": "stdout",
     "output_type": "stream",
     "text": [
      "it is to windy for an umbrella\n"
     ]
    }
   ],
   "source": [
    "ans= str.lower(input(\"is it raining?\"))\n",
    "ans2= str.lower(input(\"is it windy?\"))\n",
    "if ans and ans2 == \"yes\" :\n",
    "    print(\"it is to windy for an umbrella\")\n",
    "elif ans== \"yes\" and ans2==\"no\" :\n",
    "    print(\"take an umbrella\")\n",
    "else:\n",
    "    print(\"enjoy your day\")"
   ]
  },
  {
   "cell_type": "markdown",
   "metadata": {},
   "source": [
    "# Q6:\n",
    "Ask the user’s age. If they\n",
    "are 18 or over, display the\n",
    "message “You can vote”, if\n",
    "they are aged 17, display the\n",
    "message “You can learn to\n",
    "drive”, if they are 16, display\n",
    "the message “You can buy a\n",
    "lottery ticket”, if they are\n",
    "under 16, display the\n",
    "message “You can go Trickor-\n",
    "Treating”."
   ]
  },
  {
   "cell_type": "code",
   "execution_count": 20,
   "metadata": {},
   "outputs": [
    {
     "name": "stdout",
     "output_type": "stream",
     "text": [
      "you can buya lottery ticket\n"
     ]
    }
   ],
   "source": [
    "age= int(input(\"entor your age\"))\n",
    "if age>=18 :\n",
    "    print(\"you can vote\")\n",
    "elif age==17 :\n",
    "    print(\"you can learn to drive\")\n",
    "elif age==16:\n",
    "    print(\"you can buya lottery ticket\")\n",
    "elif age<16 :\n",
    "    print(\"you can go trock-or-treating\")"
   ]
  },
  {
   "cell_type": "markdown",
   "metadata": {},
   "source": [
    "# Q7:\n",
    "Ask the user to enter a number. If it is under 10,\n",
    "display the message “Too low”, if their number is\n",
    "between 10 and 20, display “Correct”, otherwise\n",
    "display “Too high”"
   ]
  },
  {
   "cell_type": "code",
   "execution_count": 29,
   "metadata": {},
   "outputs": [
    {
     "name": "stdout",
     "output_type": "stream",
     "text": [
      "too low\n"
     ]
    }
   ],
   "source": [
    "num= float(input(\"enter a number\"))\n",
    "if num<10:\n",
    "    print(\"too low\")\n",
    "elif num>=10 and num<=20:\n",
    "    print(\"correct\")\n",
    "else:\n",
    "    print(\"too high\")"
   ]
  },
  {
   "cell_type": "markdown",
   "metadata": {},
   "source": [
    "# Q8:\n",
    "Ask the user to enter 1, 2 or 3. If they enter a 1, display\n",
    "the message “Thank you”, if they enter a 2, display\n",
    "“Well done”, if they enter a 3, display “Correct”. If\n",
    "they enter anything else, display “Error message”."
   ]
  },
  {
   "cell_type": "code",
   "execution_count": 38,
   "metadata": {},
   "outputs": [
    {
     "name": "stdout",
     "output_type": "stream",
     "text": [
      "error message\n"
     ]
    }
   ],
   "source": [
    "user= input(\"enter 1 or 2 or 3\")\n",
    "if user==\"1\":\n",
    "    print(\"thank you\")\n",
    "elif user==\"2\":\n",
    "    print(\"well done\")\n",
    "elif user==\"3\":\n",
    "    print(\"correct\")\n",
    "else:\n",
    "    print(\"error message\")"
   ]
  }
 ],
 "metadata": {
  "kernelspec": {
   "display_name": "paniz",
   "language": "python",
   "name": "python3"
  },
  "language_info": {
   "codemirror_mode": {
    "name": "ipython",
    "version": 3
   },
   "file_extension": ".py",
   "mimetype": "text/x-python",
   "name": "python",
   "nbconvert_exporter": "python",
   "pygments_lexer": "ipython3",
   "version": "3.12.4"
  }
 },
 "nbformat": 4,
 "nbformat_minor": 2
}
