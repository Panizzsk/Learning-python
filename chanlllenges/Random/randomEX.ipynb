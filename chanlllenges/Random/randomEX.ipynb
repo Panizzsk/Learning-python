{
 "cells": [
  {
   "cell_type": "code",
   "execution_count": 1,
   "metadata": {},
   "outputs": [],
   "source": [
    "import random"
   ]
  },
  {
   "cell_type": "markdown",
   "metadata": {},
   "source": [
    "# Q1:\n",
    "Display a\n",
    "random\n",
    "integer\n",
    "between\n",
    "1 and 100\n",
    "inclusive"
   ]
  },
  {
   "cell_type": "code",
   "execution_count": 18,
   "metadata": {},
   "outputs": [
    {
     "name": "stdout",
     "output_type": "stream",
     "text": [
      "36\n"
     ]
    }
   ],
   "source": [
    "num=random.random()\n",
    "num=random.randint(1,100)\n",
    "print(num)"
   ]
  },
  {
   "cell_type": "markdown",
   "metadata": {},
   "source": [
    "# Q2:\n",
    "Display a\n",
    "random\n",
    "fruit from\n",
    "a list of\n",
    "five fruits"
   ]
  },
  {
   "cell_type": "code",
   "execution_count": 35,
   "metadata": {},
   "outputs": [
    {
     "name": "stdout",
     "output_type": "stream",
     "text": [
      "pomegranate\n"
     ]
    }
   ],
   "source": [
    "fruits=random.choice([\"apple\",\"avocado\",\"banana\",\"pomegranate\",\"peach\"])\n",
    "print(fruits)"
   ]
  },
  {
   "cell_type": "markdown",
   "metadata": {},
   "source": [
    "# Q3:\n",
    "Randomly choose either heads or tails (“h” or “t”). Ask\n",
    "the user to make their choice. If their choice is the same\n",
    "as the randomly selected value, display the message\n",
    "“You win”, otherwise display “Bad luck”. At the end, tell\n",
    "the user if the computer selected heads or tails.\n"
   ]
  },
  {
   "cell_type": "code",
   "execution_count": 39,
   "metadata": {},
   "outputs": [
    {
     "name": "stdout",
     "output_type": "stream",
     "text": [
      "bad luck :(\n"
     ]
    }
   ],
   "source": [
    "may=random.choice([\"h\",\"t\"])\n",
    "q=input(\"whats your chioce? heads or tails,enter h or t\")\n",
    "if may==q :\n",
    "    print(\"you win :)\")\n",
    "else:\n",
    "    print(\"bad luck :(\")"
   ]
  },
  {
   "cell_type": "markdown",
   "metadata": {},
   "source": [
    "# Q4:\n",
    "Randomly choose a number between 1 and 5. Ask the user to pick a\n",
    "number. If they guess correctly, display the message “Well done”,\n",
    "otherwise tell them if they are too high or too low and ask them to pick a\n",
    "second number. If they guess correctly on their second guess, display\n",
    "“Correct”, otherwise display “You lose”"
   ]
  },
  {
   "cell_type": "code",
   "execution_count": 46,
   "metadata": {},
   "outputs": [
    {
     "name": "stdout",
     "output_type": "stream",
     "text": [
      "too high\n",
      "you lose\n"
     ]
    }
   ],
   "source": [
    "num=int(random.randint(1,5))\n",
    "G=int(input(\"enter a number\"))\n",
    "if num==G:\n",
    "    print(\"WELL DONE\")\n",
    "elif num > G :\n",
    "    print(\"too low\")\n",
    "    again=int(input(\"enter a num again\"))\n",
    "    if again==num:\n",
    "        print(\"correct\")\n",
    "    else:\n",
    "        print(\"you lose\")\n",
    "elif num < G :\n",
    "    print(\"too high\")\n",
    "    again2=int(input(\"enter a num again\"))\n",
    "    if again2==G :\n",
    "        print(\"correct\")\n",
    "    else:\n",
    "        print(\"you lose\")\n"
   ]
  },
  {
   "cell_type": "markdown",
   "metadata": {},
   "source": [
    "# Q5:\n",
    "Randomly pick a whole number between 1\n",
    "and 10. Ask the user to enter a number and\n",
    "keep entering numbers until they enter the\n",
    "number that was randomly picked."
   ]
  },
  {
   "cell_type": "code",
   "execution_count": 5,
   "metadata": {},
   "outputs": [
    {
     "ename": "ValueError",
     "evalue": "invalid literal for int() with base 10: 'l'",
     "output_type": "error",
     "traceback": [
      "\u001b[1;31m---------------------------------------------------------------------------\u001b[0m",
      "\u001b[1;31mValueError\u001b[0m                                Traceback (most recent call last)",
      "Cell \u001b[1;32mIn[5], line 1\u001b[0m\n\u001b[1;32m----> 1\u001b[0m num\u001b[38;5;241m=\u001b[39m\u001b[38;5;28;43mint\u001b[39;49m\u001b[43m(\u001b[49m\u001b[38;5;28;43minput\u001b[39;49m\u001b[43m(\u001b[49m\u001b[38;5;124;43m\"\u001b[39;49m\u001b[38;5;124;43menter a number\u001b[39;49m\u001b[38;5;124;43m\"\u001b[39;49m\u001b[43m)\u001b[49m\u001b[43m)\u001b[49m\n\u001b[0;32m      2\u001b[0m g\u001b[38;5;241m=\u001b[39m\u001b[38;5;28mint\u001b[39m(random\u001b[38;5;241m.\u001b[39mrandint(\u001b[38;5;241m1\u001b[39m,\u001b[38;5;241m10\u001b[39m))\n\u001b[0;32m      3\u001b[0m \u001b[38;5;28;01mwhile\u001b[39;00m num\u001b[38;5;241m!=\u001b[39m g :\n",
      "\u001b[1;31mValueError\u001b[0m: invalid literal for int() with base 10: 'l'"
     ]
    }
   ],
   "source": [
    "num=int(input(\"enter a number\"))\n",
    "g=int(random.randint(1,10))\n",
    "while num!= g :\n",
    "    \n",
    "    num= int(input(\"enter a number again\"))\n",
    "    if num==g:\n",
    "        print(\"well done\")"
   ]
  },
  {
   "cell_type": "markdown",
   "metadata": {},
   "source": [
    "# Q6:\n",
    "Update\n",
    "program 056\n",
    "so that it\n",
    "tells the\n",
    "user if they\n",
    "are too high\n",
    "or too low\n",
    "before they\n",
    "pick again.\n"
   ]
  },
  {
   "cell_type": "code",
   "execution_count": 8,
   "metadata": {},
   "outputs": [
    {
     "name": "stdout",
     "output_type": "stream",
     "text": [
      "too high\n",
      "too high\n",
      "too low\n",
      "too low\n",
      "well done\n"
     ]
    }
   ],
   "source": [
    "num=int(input(\"enter a number\"))\n",
    "g=int(random.randint(1,10))\n",
    "while num!= g :\n",
    "    if g> num:\n",
    "        print(\"too low\" )\n",
    "        num= int(input(\"enter a number again\"))\n",
    "    elif g< num :\n",
    "        print(\"too high\" )\n",
    "        num= int(input(\"enter a number again\"))\n",
    "print(\"well done\")"
   ]
  },
  {
   "cell_type": "markdown",
   "metadata": {},
   "source": [
    "# Q7:\n",
    "Make a maths quiz that asks five questions by randomly\n",
    "generating two whole numbers to make the question\n",
    "(e.g. [num1] + [num2]). Ask the user to enter the\n",
    "answer. If they get it right add a point to their score. At\n",
    "the end of the quiz, tell them how many they got correct\n",
    "out of five."
   ]
  },
  {
   "cell_type": "code",
   "execution_count": 12,
   "metadata": {},
   "outputs": [
    {
     "name": "stdout",
     "output_type": "stream",
     "text": [
      "19 + 26\n",
      "\n",
      "49 + 9\n",
      "\n",
      "84 + 95\n",
      "\n",
      "12 + 15\n",
      "\n",
      "22 + 93\n",
      "\n",
      "youe score: 3\n"
     ]
    }
   ],
   "source": [
    "score=0\n",
    "for i in range (1,6):\n",
    "    num1= int(random.randint(1,100))\n",
    "    num2= int(random.randint(1,100))\n",
    "    corr_ans= num1+num2\n",
    "    print(num1, \"+\",num2)\n",
    "    ANS=int(input(\"your ans is:\"))\n",
    "    print()\n",
    "    if corr_ans==ANS :\n",
    "        score=score+1\n",
    "print(\"youe score:\", score)\n"
   ]
  },
  {
   "cell_type": "markdown",
   "metadata": {},
   "source": [
    "# Q8:\n",
    "Display five colours and ask the user to pick one. If they\n",
    "pick the same as the program has chosen, say “Well\n",
    "done”, otherwise display a witty answer which involves\n",
    "the correct colour, e.g. “I bet you are GREEN with envy”\n",
    "or “You are probably feeling BLUE right now”. Ask\n",
    "them to guess again; if they have still not got it right,\n",
    "keep giving them the same clue and ask the user to\n",
    "enter a colour until they guess it correctly"
   ]
  },
  {
   "cell_type": "code",
   "execution_count": 15,
   "metadata": {},
   "outputs": [
    {
     "name": "stdout",
     "output_type": "stream",
     "text": [
      "be black\n",
      "be black\n"
     ]
    }
   ],
   "source": [
    "rand_colour=random.choice([\"blue\",\"green\",\"gray\",\"red\",\"black\"])\n",
    "colour= input([\"blue\",\"green\",\"gray\",\"red\",\"black\",\"pick one of them\"])\n",
    "if rand_colour== colour :\n",
    "    print(\"well done\")\n",
    "else:\n",
    "    while rand_colour!=colour :\n",
    "        print(\"be\", rand_colour)\n",
    "        g_again=input([\"blue\",\"green\",\"gray\",\"red\",\"black\",\"pick one of them\"])\n",
    "        if rand_colour==g_again:\n",
    "            break"
   ]
  }
 ],
 "metadata": {
  "kernelspec": {
   "display_name": "paniz",
   "language": "python",
   "name": "python3"
  },
  "language_info": {
   "codemirror_mode": {
    "name": "ipython",
    "version": 3
   },
   "file_extension": ".py",
   "mimetype": "text/x-python",
   "name": "python",
   "nbconvert_exporter": "python",
   "pygments_lexer": "ipython3",
   "version": "3.12.4"
  }
 },
 "nbformat": 4,
 "nbformat_minor": 2
}
