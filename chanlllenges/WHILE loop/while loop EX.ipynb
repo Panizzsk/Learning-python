{
 "cells": [
  {
   "cell_type": "markdown",
   "metadata": {},
   "source": [
    "# Q1:\n",
    "Set the total to 0 to start with. While the total is 50 or less, ask\n",
    "the user to input a number. Add that number to the total and\n",
    "print the message “The total is… [total]”. Stop the loop when\n",
    "the total is over 50."
   ]
  },
  {
   "cell_type": "code",
   "execution_count": 21,
   "metadata": {},
   "outputs": [
    {
     "name": "stdout",
     "output_type": "stream",
     "text": [
      "total is: 5\n",
      "total is: 10\n",
      "total is: 31\n",
      "total is: 81\n",
      "its over\n"
     ]
    }
   ],
   "source": [
    "total= 0\n",
    "while total<= 50 :\n",
    "    num= int(input(\"enter a number\"))\n",
    "    total+=num\n",
    "    print(\"total is:\",total)\n",
    "while total>50 :\n",
    "    print(\"its over\")\n",
    "    break\n",
    "\n"
   ]
  },
  {
   "cell_type": "markdown",
   "metadata": {},
   "source": [
    "# Q2:\n",
    "Ask the user to enter\n",
    "a number. Keep\n",
    "asking until they enter\n",
    "a value over 5 and\n",
    "then display the\n",
    "message “The last\n",
    "number you entered\n",
    "was a [number]” and\n",
    "stop the program."
   ]
  },
  {
   "cell_type": "code",
   "execution_count": null,
   "metadata": {},
   "outputs": [
    {
     "name": "stdout",
     "output_type": "stream",
     "text": [
      "the last number you entered was a  6\n"
     ]
    }
   ],
   "source": [
    "num= 0\n",
    "while num<=5 :\n",
    "    ASK= int(input(\"enter a number\"))\n",
    "    num=ASK\n",
    "print (\"the last number you entered was a \",num)"
   ]
  },
  {
   "cell_type": "markdown",
   "metadata": {},
   "source": [
    "# Q3:\n",
    "Ask the user to enter a\n",
    "number and then enter\n",
    "another number. Add these\n",
    "two numbers together and\n",
    "then ask if they want to add\n",
    "another number. If they\n",
    "enter “y\", ask them to enter\n",
    "another number and keep\n",
    "adding numbers until they\n",
    "do not answer “y”. Once the\n",
    "loop has stopped, display\n",
    "the total."
   ]
  },
  {
   "cell_type": "code",
   "execution_count": 6,
   "metadata": {},
   "outputs": [
    {
     "name": "stdout",
     "output_type": "stream",
     "text": [
      "27\n"
     ]
    }
   ],
   "source": [
    "A= int(input(\"ENTER A NUMBER\"))\n",
    "B= int(input(\"ENTER A NUMBER AGAIN\"))\n",
    "C= A+B\n",
    "ASKK= input(\"DO YOU WANT TO ADD AN OTHR NUMBER?\").strip().lower()\n",
    "if ASKK==\"y\" :\n",
    "    while ASKK==\"y\":\n",
    "        new_ask= int(input(\"enter an other number\"))\n",
    "        \n",
    "        C+=new_ask\n",
    "        ASKK= input(\"DO YOU WANT TO ADD AN OTHR NUMBER?\").strip().lower()\n",
    "print(C)\n"
   ]
  },
  {
   "cell_type": "markdown",
   "metadata": {},
   "source": [
    "# Q4:\n",
    "Ask for the name of somebody the user wants to invite\n",
    "to a party. After this, display the message “[name] has\n",
    "now been invited” and add 1 to the count. Then ask if\n",
    "they want to invite somebody else. Keep repeating this\n",
    "until they no longer want to invite anyone else to the\n",
    "party and then display how many people they have\n",
    "coming to the party."
   ]
  },
  {
   "cell_type": "code",
   "execution_count": 8,
   "metadata": {},
   "outputs": [
    {
     "name": "stdout",
     "output_type": "stream",
     "text": [
      "PANIZ has now invited\n",
      "2 PEOPLE COMING TO YOUR PARTY\n"
     ]
    }
   ],
   "source": [
    "A= (input(\"ENTER the name of somebody YOU  want to invite to a party\"))\n",
    "print(A,\"has now invited\")\n",
    "Count= 1\n",
    "ASKK= input(\"DO YOU WANT TO INVITE AN OTHR PERSONE?\").strip().lower()\n",
    "while ASKK==\"y\":\n",
    "        new_ask= input(\"enter an other NAME\")\n",
    "        \n",
    "        Count+=1\n",
    "        ASKK= input(\"DO YOU WANT TO ADD AN OTHR NUMBER?\").strip().lower()\n",
    "print(Count,\"PEOPLE COMING TO YOUR PARTY\")"
   ]
  },
  {
   "cell_type": "markdown",
   "metadata": {},
   "source": [
    "# Q5:\n",
    "Create a variable called\n",
    "compnum and set the value\n",
    "to 50. Ask the user to enter a\n",
    "number. While their guess\n",
    "is not the same as the\n",
    "compnum value, tell them if\n",
    "their guess is too low or too\n",
    "high and ask them to have\n",
    "another guess. If they enter\n",
    "the same value as\n",
    "compnum, display the\n",
    "message “Well done, you\n",
    "took [count] attempts”."
   ]
  },
  {
   "cell_type": "code",
   "execution_count": null,
   "metadata": {},
   "outputs": [],
   "source": [
    "compnum=50\n",
    "Count=1\n",
    "E= int(input(\"enter a number THAT YOU THINK  I AM THINK TO IT\"))\n",
    "while E!=compnum :\n",
    "    if E<compnum :\n",
    "        print(\"TOO LOW\")\n",
    "    else:\n",
    "        print(\"TOO HIGH\")\n",
    "    Count+=1\n",
    "    E= int(input(\"enter a number THAT YOU THINK  I AM THINK TO IT\"))\n",
    "\n",
    "print(\"well done you took\", Count,\"attempts\")"
   ]
  },
  {
   "cell_type": "markdown",
   "metadata": {},
   "source": [
    "# Q6:\n",
    "Ask the user to enter a number between\n",
    "10 and 20. If they enter a value under 10,\n",
    "display the message “Too low” and ask\n",
    "them to try again. If they enter a value\n",
    "above 20, display the message “Too high”\n",
    "and ask them to try again. Keep repeating\n",
    "this until they enter a value that is\n",
    "between 10 and 20 and then display the\n",
    "message “Thank you”."
   ]
  },
  {
   "cell_type": "code",
   "execution_count": 20,
   "metadata": {},
   "outputs": [
    {
     "name": "stdout",
     "output_type": "stream",
     "text": [
      "Thank you!\n"
     ]
    }
   ],
   "source": [
    "NUMBER = int(input(\"ENTER A NUMBER BETWEEN 10 AND 20: \"))\n",
    "\n",
    "while NUMBER > 20 or NUMBER < 10:\n",
    "    if NUMBER < 10:\n",
    "        NUMBER = int(input(\"Too low, try again: \"))\n",
    "    elif NUMBER > 20:\n",
    "        NUMBER = int(input(\"Too high, try again: \"))\n",
    "\n",
    "print(\"Thank you!\")\n"
   ]
  },
  {
   "cell_type": "markdown",
   "metadata": {},
   "source": [
    "# Q7:\n",
    "Using the song “10 green bottles”, display the lines “There are [num] green bottles\n",
    "hanging on the wall, [num] green bottles hanging on the wall, and if 1 green bottle\n",
    "should accidentally fall”. Then ask the question “how many green bottles will be\n",
    "hanging on the wall?” If the user answers correctly, display the message “There will be\n",
    "[num] green bottles hanging on the wall”. If they answer incorrectly, display the\n",
    "message “No, try again” until they get it right. When the number of green bottles gets\n",
    "down to 0, display the message “There are no more green bottles hanging on the wall”."
   ]
  },
  {
   "cell_type": "code",
   "execution_count": null,
   "metadata": {},
   "outputs": [
    {
     "name": "stdout",
     "output_type": "stream",
     "text": [
      "There are 10  green bottles hanging on the wall,\n",
      "10 green bottles hanging on the wall,\n",
      "And if 1 green bottle should accidentally fall...\n",
      "there will be 9\n",
      "There are 9  green bottles hanging on the wall,\n",
      "9 green bottles hanging on the wall,\n",
      "And if 1 green bottle should accidentally fall...\n",
      "there will be 8\n",
      "There are 8  green bottles hanging on the wall,\n",
      "8 green bottles hanging on the wall,\n",
      "And if 1 green bottle should accidentally fall...\n",
      "there will be 7\n",
      "There are 7  green bottles hanging on the wall,\n",
      "7 green bottles hanging on the wall,\n",
      "And if 1 green bottle should accidentally fall...\n"
     ]
    }
   ],
   "source": [
    "num_bottles = 10\n",
    "\n",
    "while num_bottles > 0:\n",
    "    \n",
    "    print(\"There are\" ,num_bottles,\" green bottles hanging on the wall,\")\n",
    "    print(num_bottles,\"green bottles hanging on the wall,\")\n",
    "    print(\"And if 1 green bottle should accidentally fall...\")\n",
    "    num_bottles=num_bottles-1\n",
    "    answer= int(input(\"how many green bottles will be hanging?\"))\n",
    "    if answer==num_bottles:\n",
    "        print(\"there will be\",num_bottles)\n",
    "    else:\n",
    "        while answer!=num_bottles :\n",
    "            answer= int(input(\"try, again\"))\n",
    "\n",
    "print(\"There are no more green bottles hanging on the wall.\")\n"
   ]
  }
 ],
 "metadata": {
  "kernelspec": {
   "display_name": "paniz",
   "language": "python",
   "name": "python3"
  },
  "language_info": {
   "codemirror_mode": {
    "name": "ipython",
    "version": 3
   },
   "file_extension": ".py",
   "mimetype": "text/x-python",
   "name": "python",
   "nbconvert_exporter": "python",
   "pygments_lexer": "ipython3",
   "version": "3.12.4"
  }
 },
 "nbformat": 4,
 "nbformat_minor": 2
}
