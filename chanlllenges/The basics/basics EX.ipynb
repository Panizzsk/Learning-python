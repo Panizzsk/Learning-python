{
 "cells": [
  {
   "cell_type": "markdown",
   "metadata": {},
   "source": [
    "# Q1:\n",
    "Ask for the user’s first name and\n",
    "display the output message"
   ]
  },
  {
   "cell_type": "code",
   "execution_count": 1,
   "metadata": {},
   "outputs": [
    {
     "name": "stdout",
     "output_type": "stream",
     "text": [
      "your name is: paniz\n"
     ]
    }
   ],
   "source": [
    "name= input(\"enter your name:\")\n",
    "print(\"your name is:\", name)"
   ]
  },
  {
   "cell_type": "markdown",
   "metadata": {},
   "source": [
    "# Q2:\n",
    "Ask for the user’s first name and then ask for\n",
    "their surname and display the output message"
   ]
  },
  {
   "cell_type": "code",
   "execution_count": 2,
   "metadata": {},
   "outputs": [
    {
     "name": "stdout",
     "output_type": "stream",
     "text": [
      "your name and surname : paniz , kolsum\n"
     ]
    }
   ],
   "source": [
    "name= input(\"enter your first name\")\n",
    "sname= input(\"enter your surname\")\n",
    "print(\"your name and surname :\",name,\",\" , sname)"
   ]
  },
  {
   "cell_type": "markdown",
   "metadata": {},
   "source": [
    "# Q3:\n",
    "Write code that will display the joke “What do you call a bear with no\n",
    "teeth?” and on the next line display the answer “A gummy bear!” Try to\n",
    "create it using only one line of code."
   ]
  },
  {
   "cell_type": "code",
   "execution_count": 6,
   "metadata": {},
   "outputs": [
    {
     "name": "stdout",
     "output_type": "stream",
     "text": [
      "What do you call a bear with no teeth?\n",
      "A gummy bear!\n"
     ]
    }
   ],
   "source": [
    "print(\"What do you call a bear with no teeth?\\nA gummy bear!\")"
   ]
  },
  {
   "cell_type": "markdown",
   "metadata": {},
   "source": [
    "# Q4:\n",
    "Ask the user to enter\n",
    "two numbers. Add\n",
    "them together and\n",
    "display the answer"
   ]
  },
  {
   "cell_type": "code",
   "execution_count": 3,
   "metadata": {},
   "outputs": [
    {
     "name": "stdout",
     "output_type": "stream",
     "text": [
      "total= 14\n"
     ]
    }
   ],
   "source": [
    "a= int(input(\"enter a number\"))\n",
    "b= int(input(\"enter a number again\"))\n",
    "c= a+b\n",
    "print(\"total=\", c)\n"
   ]
  },
  {
   "cell_type": "markdown",
   "metadata": {},
   "source": [
    "# Q5:\n",
    "Ask the user to enter three\n",
    "numbers. Add together the first\n",
    "two numbers and then multiply\n",
    "this total by the third. Display the\n",
    "answer"
   ]
  },
  {
   "cell_type": "code",
   "execution_count": 4,
   "metadata": {},
   "outputs": [
    {
     "name": "stdout",
     "output_type": "stream",
     "text": [
      "answer is= 9 , 63\n"
     ]
    }
   ],
   "source": [
    "a= int(input(\"enter a number\"))\n",
    "b= int(input(\"enter a number again\"))\n",
    "c= int(input(\"enter a number again\"))\n",
    "d= a+b\n",
    "T= d*c \n",
    "print(\"answer is=\",d,\",\",T)\n"
   ]
  },
  {
   "cell_type": "markdown",
   "metadata": {},
   "source": [
    "# Q6:\n",
    "Ask how many slices\n",
    "of pizza the user\n",
    "started with and ask\n",
    "how many slices\n",
    "they have eaten.\n",
    "Work out how many\n",
    "slices they have left\n",
    "and display the\n",
    "answer in a userfriendly\n",
    "format."
   ]
  },
  {
   "cell_type": "code",
   "execution_count": 5,
   "metadata": {},
   "outputs": [
    {
     "name": "stdout",
     "output_type": "stream",
     "text": [
      "numbers of survivors are=  5\n"
     ]
    }
   ],
   "source": [
    "started_slices= int(input(\" how many slices did you start with?\"))\n",
    "eaten_slices= int(input(\"howm many slices did you have eaten?\"))\n",
    "left_slices= started_slices - eaten_slices\n",
    "print (\"numbers of survivors are= \", left_slices)\n"
   ]
  },
  {
   "cell_type": "markdown",
   "metadata": {},
   "source": [
    "# Q7:\n",
    "Ask the user for their name and their age. Add 1 to their age\n",
    "and display the output"
   ]
  },
  {
   "cell_type": "code",
   "execution_count": 7,
   "metadata": {},
   "outputs": [
    {
     "name": "stdout",
     "output_type": "stream",
     "text": [
      "paniz next year you will be 26\n"
     ]
    }
   ],
   "source": [
    "name= input(\"enter your name\")\n",
    "age= int(input(\"enter your age\"))\n",
    "yuhaha= age+1\n",
    "print(name,\"next year you will be\",yuhaha)"
   ]
  },
  {
   "cell_type": "markdown",
   "metadata": {},
   "source": [
    " # Q8:\n",
    " Ask for the total price of the bill, then ask how\n",
    "many diners there are. Divide the total bill by the\n",
    "number of diners and show how much each\n",
    "person must pay"
   ]
  },
  {
   "cell_type": "code",
   "execution_count": 8,
   "metadata": {},
   "outputs": [
    {
     "name": "stdout",
     "output_type": "stream",
     "text": [
      "each person's share = 11777.6\n"
     ]
    }
   ],
   "source": [
    "total_price= int(input(\"enter the toal price of bill\"))\n",
    "diners_num= int(input(\"how many diners you have\"))\n",
    "each_person= total_price / diners_num\n",
    "print(\"each person's share =\", each_person)"
   ]
  },
  {
   "cell_type": "markdown",
   "metadata": {},
   "source": [
    "# Q9:\n",
    "Write a program\n",
    "that will ask for a\n",
    "number of days\n",
    "and then will\n",
    "show how many\n",
    "hours, minutes\n",
    "and seconds are\n",
    "in that number of\n",
    "days."
   ]
  },
  {
   "cell_type": "code",
   "execution_count": 9,
   "metadata": {},
   "outputs": [
    {
     "name": "stdout",
     "output_type": "stream",
     "text": [
      "hours, minutes and seconds are= 120 7200 432000\n"
     ]
    }
   ],
   "source": [
    "days= int(input(\"tell me number of days\"))\n",
    "H= days*24\n",
    "M= H*60\n",
    "S= H*3600\n",
    "print(\"hours, minutes and seconds are=\",H,M,S)"
   ]
  },
  {
   "cell_type": "markdown",
   "metadata": {},
   "source": [
    "# Q10:\n",
    "There are 2,204 pounds in a kilogram. Ask the\n",
    "user to enter a weight in kilograms and convert it\n",
    "to pounds."
   ]
  },
  {
   "cell_type": "code",
   "execution_count": 14,
   "metadata": {},
   "outputs": [
    {
     "name": "stdout",
     "output_type": "stream",
     "text": [
      "your weight in pounds= 127.83200000000001\n"
     ]
    }
   ],
   "source": [
    "X= 2.204 #each kilo per pounds\n",
    "weights= float(input(\"enter your weight in kg\"))\n",
    "c= X*weights\n",
    "print(\"your weight in pounds=\",c)"
   ]
  },
  {
   "cell_type": "markdown",
   "metadata": {},
   "source": [
    "# Q11:\n",
    "Task the user to enter a number over 100 and then enter a number under\n",
    "10 and tell them how many times the smaller number goes into the larger\n",
    "number in a user-friendly format."
   ]
  },
  {
   "cell_type": "code",
   "execution_count": 18,
   "metadata": {},
   "outputs": [
    {
     "name": "stdout",
     "output_type": "stream",
     "text": [
      "4618.0\n"
     ]
    }
   ],
   "source": [
    "num_over= float(input(\" enter numberover 100\"))\n",
    "num_under= float(input(\"enter number under 10\"))\n",
    "print(num_over// num_under)\n"
   ]
  }
 ],
 "metadata": {
  "kernelspec": {
   "display_name": "paniz",
   "language": "python",
   "name": "python3"
  },
  "language_info": {
   "codemirror_mode": {
    "name": "ipython",
    "version": 3
   },
   "file_extension": ".py",
   "mimetype": "text/x-python",
   "name": "python",
   "nbconvert_exporter": "python",
   "pygments_lexer": "ipython3",
   "version": "3.12.4"
  }
 },
 "nbformat": 4,
 "nbformat_minor": 2
}
