{
 "cells": [
  {
   "cell_type": "markdown",
   "metadata": {},
   "source": [
    "# Q1:\n",
    "Ask the user to enter\n",
    "their first name and\n",
    "then display the\n",
    "length of their name"
   ]
  },
  {
   "cell_type": "code",
   "execution_count": 1,
   "metadata": {},
   "outputs": [
    {
     "name": "stdout",
     "output_type": "stream",
     "text": [
      "5\n"
     ]
    }
   ],
   "source": [
    "name= input(\"enter your name\")\n",
    "lenght= len(name)\n",
    "print(lenght)"
   ]
  },
  {
   "cell_type": "markdown",
   "metadata": {},
   "source": [
    "# Q2\n",
    "Ask the user to enter their first name and then ask them to\n",
    "enter their surname. Join them together with a space between\n",
    "and display the name and the length of whole name."
   ]
  },
  {
   "cell_type": "code",
   "execution_count": 5,
   "metadata": {},
   "outputs": [
    {
     "name": "stdout",
     "output_type": "stream",
     "text": [
      "paniz akram 11\n"
     ]
    }
   ],
   "source": [
    "fname= input(\"enter your first name\")\n",
    "sname= input(\"enter your surename\")\n",
    "name= fname + \" \" +sname\n",
    "lenght= len(name)\n",
    "print(name,lenght)"
   ]
  },
  {
   "cell_type": "markdown",
   "metadata": {},
   "source": [
    "# Q3\n",
    "Ask the user to enter their first name and surname in lower\n",
    "case. Change the case to title case and join them together.\n",
    "Display the finished result"
   ]
  },
  {
   "cell_type": "code",
   "execution_count": 8,
   "metadata": {},
   "outputs": [
    {
     "name": "stdout",
     "output_type": "stream",
     "text": [
      "Paniz Akram\n"
     ]
    }
   ],
   "source": [
    "fname= input(\"enter your first name in lower case\")\n",
    "sname= input(\"enter your surename in lower case\")\n",
    "word1= fname.title()\n",
    "word2= sname.title()\n",
    "name= word1+\" \"+word2\n",
    "print(name)\n"
   ]
  },
  {
   "cell_type": "markdown",
   "metadata": {},
   "source": [
    "# Q4\n",
    "Ask the user to type in the first\n",
    "line of a nursery rhyme and\n",
    "display the length of the string.\n",
    "Ask for a starting number and an\n",
    "ending number and then display\n",
    "just that section of the text"
   ]
  },
  {
   "cell_type": "code",
   "execution_count": 12,
   "metadata": {},
   "outputs": [
    {
     "name": "stdout",
     "output_type": "stream",
     "text": [
      "lenght of input is:  20\n",
      "salam\n"
     ]
    }
   ],
   "source": [
    "A= input(\"enter the first line of a nursery rhyme\")\n",
    "lenght=len(A)\n",
    "print(\"lenght of input is: \", lenght)\n",
    "snum= int(input(\"enter start number\"))\n",
    "enum= int(input(\"enter END number\"))\n",
    "section= (A[snum:enum])\n",
    "print(section)"
   ]
  },
  {
   "cell_type": "markdown",
   "metadata": {},
   "source": [
    "# Q5:\n",
    "Ask the user to type in any word and display it in\n",
    "upper case"
   ]
  },
  {
   "cell_type": "code",
   "execution_count": 13,
   "metadata": {},
   "outputs": [
    {
     "name": "stdout",
     "output_type": "stream",
     "text": [
      "KHAR\n"
     ]
    }
   ],
   "source": [
    "word= input(\"type any word that you want\")\n",
    "up= word.upper()\n",
    "print(up)"
   ]
  },
  {
   "cell_type": "markdown",
   "metadata": {},
   "source": [
    "# Q6:\n",
    "Ask the user to enter their first name. If the length\n",
    "of their first name is under five characters, ask\n",
    "them to enter their surname and join them\n",
    "together (without a space) and display the name\n",
    "in upper case. If the length of the first name is five\n",
    "or more characters, display their first name in\n",
    "lower case."
   ]
  },
  {
   "cell_type": "code",
   "execution_count": 16,
   "metadata": {},
   "outputs": [
    {
     "name": "stdout",
     "output_type": "stream",
     "text": [
      "ASALAZAM\n"
     ]
    }
   ],
   "source": [
    "fname= input(\"enter your first name\")\n",
    "if len(fname)<5:\n",
    "    sname= input(\"enter your surname\")\n",
    "    name= fname+sname\n",
    "    upper= name.upper()\n",
    "    print(upper)\n",
    "else:\n",
    "    lower= fname.lower()\n",
    "    print(lower)\n"
   ]
  },
  {
   "cell_type": "markdown",
   "metadata": {},
   "source": [
    "# Q7:\n",
    "Pig Latin takes the first consonant of a word,\n",
    "moves it to the end of the word and adds on an\n",
    "“ay”. If a word begins with a vowel you just add\n",
    "“way” to the end. For example, pig becomes igpay,\n",
    "banana becomes ananabay, and aadvark becomes\n",
    "aadvarkway. Create a program that will ask the\n",
    "user to enter a word and change it into Pig Latin.\n",
    "Make sure the new word is displayed in lower case."
   ]
  },
  {
   "cell_type": "code",
   "execution_count": null,
   "metadata": {},
   "outputs": [
    {
     "name": "stdout",
     "output_type": "stream",
     "text": [
      "alaway\n"
     ]
    }
   ],
   "source": [
    "P = input(\"Enter a word: \").lower() \n",
    "letter = P[0] \n",
    "\n",
    "if letter in \"aeiou\":  \n",
    "    print(P + \"way\")\n",
    "else:\n",
    "    N = P[1:]\n",
    "    NEW_N = N + P[0]\n",
    "    print(NEW_N + \"ay\")\n"
   ]
  }
 ],
 "metadata": {
  "kernelspec": {
   "display_name": "paniz",
   "language": "python",
   "name": "python3"
  },
  "language_info": {
   "codemirror_mode": {
    "name": "ipython",
    "version": 3
   },
   "file_extension": ".py",
   "mimetype": "text/x-python",
   "name": "python",
   "nbconvert_exporter": "python",
   "pygments_lexer": "ipython3",
   "version": "3.12.4"
  }
 },
 "nbformat": 4,
 "nbformat_minor": 2
}
