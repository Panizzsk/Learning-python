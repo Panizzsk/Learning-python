{
 "cells": [
  {
   "cell_type": "markdown",
   "metadata": {},
   "source": [
    "# Q1:Create a tuple containing the names of five countries and display the whole tuple. Ask the user to enter one of the countries that have been shown to them and then display the index number (i.e. position in the list) of that item in the tuple."
   ]
  },
  {
   "cell_type": "code",
   "execution_count": 4,
   "metadata": {},
   "outputs": [
    {
     "name": "stdout",
     "output_type": "stream",
     "text": [
      "('france', 'china', 'Netherland', 'Germany', 'U.S', 'iran')\n",
      "it's 2\n"
     ]
    }
   ],
   "source": [
    "countries_tuples= (\"france\",\"china\",\"Netherland\",\"Germany\",\"U.S\",\"iran\")\n",
    "print(countries_tuples)\n",
    "user= input(\"enter one of the countries that have shown to you\")\n",
    "print(\"it's\" ,countries_tuples.index(user))\n"
   ]
  },
  {
   "cell_type": "markdown",
   "metadata": {},
   "source": [
    "# Q2:Add to Q1 to ask the user to enter a number and display the country in that position."
   ]
  },
  {
   "cell_type": "code",
   "execution_count": 7,
   "metadata": {},
   "outputs": [
    {
     "name": "stdout",
     "output_type": "stream",
     "text": [
      "('france', 'china', 'Netherland', 'Germany', 'U.S', 'iran')\n",
      "Germany\n"
     ]
    }
   ],
   "source": [
    "countries_tuples= (\"france\",\"china\",\"Netherland\",\"Germany\",\"U.S\",\"iran\")\n",
    "print(countries_tuples)\n",
    "user= int(input(\"enter a num\"))\n",
    "print(countries_tuples[user])\n"
   ]
  },
  {
   "cell_type": "markdown",
   "metadata": {},
   "source": [
    "# Q3:Create a list of two sports. Ask the user what their favourite sport is and add this to the end of the list. Sort the list and display it."
   ]
  },
  {
   "cell_type": "code",
   "execution_count": 11,
   "metadata": {},
   "outputs": [
    {
     "name": "stdout",
     "output_type": "stream",
     "text": [
      "['body-b', 'vollyballl']\n",
      "['body-b', 'golf', 'vollyballl']\n"
     ]
    }
   ],
   "source": [
    "sports= [\"body-b\",\"vollyballl\"]\n",
    "print(sports)\n",
    "fav= input(\"enter your fav sport\")\n",
    "sports.append(fav)\n",
    "sports.sort()\n",
    "print(sports)\n",
    "\n"
   ]
  },
  {
   "cell_type": "markdown",
   "metadata": {},
   "source": [
    "# Q4:Create a list of six school subjects. Ask the user which of these subjects they don’t like. Delete the subject they have chosen from the list before you display the list again."
   ]
  },
  {
   "cell_type": "code",
   "execution_count": 17,
   "metadata": {},
   "outputs": [
    {
     "name": "stdout",
     "output_type": "stream",
     "text": [
      "['math', 'biology', 'geo', 'chemistry', 'physics', 'differential']\n",
      "['math', 'biology', 'chemistry', 'physics', 'differential']\n"
     ]
    }
   ],
   "source": [
    "sub=[\"math\",\"biology\",\"geo\",\"chemistry\",\"physics\",\"differential\"]\n",
    "print(sub)\n",
    "user= input(\"which of those subjects you don't like?\")\n",
    "del sub[sub.index(user)]\n",
    "print(sub)"
   ]
  },
  {
   "cell_type": "markdown",
   "metadata": {},
   "source": [
    "# Q5:Ask the user to enter four of their favourite foods and store them in a dictionary so that they are indexed with numbers starting from 1. Display the dictionary in full, showing the index number and the item. Ask them which they want to get rid of and remove it from the list. Sort the remaining data and display the dictionary"
   ]
  },
  {
   "cell_type": "code",
   "execution_count": 8,
   "metadata": {},
   "outputs": [
    {
     "name": "stdout",
     "output_type": "stream",
     "text": [
      "{1: 'p', 2: 'b', 3: 'c', 4: 'p'}\n",
      "['b', 'p', 'p']\n"
     ]
    }
   ],
   "source": [
    "fav_food={}\n",
    "for i in range (1,5):\n",
    "    fav_food[i]= input(\"enter four of your fav foods\")\n",
    "    \n",
    "print(fav_food)\n",
    "check= int(input(\"wich one do you want to remove?\"))\n",
    "del fav_food[check]\n",
    "fav_food_check= sorted(fav_food.values())\n",
    "print(fav_food_check)\n"
   ]
  },
  {
   "cell_type": "markdown",
   "metadata": {},
   "source": [
    "# Q6:Enter a list of ten colours.Ask the user for a starting number between 0 and 4 and an end number between 5 and 9. Display the list for those colours between the start and end numbers the user input."
   ]
  },
  {
   "cell_type": "code",
   "execution_count": null,
   "metadata": {},
   "outputs": [
    {
     "name": "stdout",
     "output_type": "stream",
     "text": [
      "['brown', 'orange', 'yellow', 'pink']\n"
     ]
    }
   ],
   "source": [
    "colours= [\"blue\",\"black\",\"red\",\"gray\",\"green\",\"brown\",\"orange\",\"yellow\",\"pink\",\"white\"]\n",
    "start_num= int(input(\"enter a num between 0-4\"))\n",
    "end_num= int(input(\"enter a num between 5-9\"))\n",
    "print(colours[start_num :end_num])"
   ]
  },
  {
   "cell_type": "markdown",
   "metadata": {},
   "source": [
    "# Q7:Create a list of four three-digit numbers. Display the list to the user, showing each item from the list on a separate line. Ask the user to enter a three-digit number. If the number they have typed in matches one in the list, display the position of that number in the list, otherwise display the message “That is not in the list”."
   ]
  },
  {
   "cell_type": "code",
   "execution_count": 16,
   "metadata": {},
   "outputs": [
    {
     "name": "stdout",
     "output_type": "stream",
     "text": [
      "468\n",
      "956\n",
      "403\n",
      "209\n",
      "2\n"
     ]
    }
   ],
   "source": [
    "nums= [468,956,403,209]\n",
    "for i in range (4):\n",
    "    print(nums[i])\n",
    "user  =int(input(\"enter three-digit num\"))\n",
    "if user in nums :\n",
    "    print(nums.index(user))\n",
    "else:\n",
    "    print(\"that is not in the list\")"
   ]
  },
  {
   "cell_type": "markdown",
   "metadata": {},
   "source": [
    "# Q8:Ask the user to enter the names of three people they want to invite to a party and store them in a list. After they have entered all three names, ask them if they want to add another. If they do, allow them to add more names until they answer “no”. When they answer “no”, display how many people they have invited to the party."
   ]
  },
  {
   "cell_type": "code",
   "execution_count": 4,
   "metadata": {},
   "outputs": [
    {
     "name": "stdout",
     "output_type": "stream",
     "text": [
      "['sara', 'maryam', 'zahra']\n",
      "You have invited 5 people to the party. ['sara', 'maryam', 'zahra', 'zohre', 'paniz']\n"
     ]
    }
   ],
   "source": [
    "people_invited=[]\n",
    "for i in range (0,3):\n",
    "    people_invited.append(input(\"enter names of people that you want to  invite to party\"))\n",
    "    \n",
    "print(people_invited)\n",
    "more_people = input(\"Do you want to add another person? (yes/no) \").lower()\n",
    "while more_people== \"yes\":\n",
    "        more_people = input(\"Do you want to add another person? (yes/no) \").lower()\n",
    "        if more_people == \"yes\":\n",
    "            name = input(\"Enter the name: \")\n",
    "            people_invited.append(name)\n",
    "        else:\n",
    "            print(f\"You have invited {len(people_invited)} people to the party.\",people_invited)"
   ]
  },
  {
   "cell_type": "markdown",
   "metadata": {},
   "source": [
    "# Q9:Change Q8 so that once the user has completed their list of names, display the full list and ask them to type in one of the names on the list. Display the position of that name in the list. Ask the user if they still want that person to come to the party. If they answer “no”, delete that entry from the list and display the list again."
   ]
  },
  {
   "cell_type": "code",
   "execution_count": 12,
   "metadata": {},
   "outputs": [
    {
     "name": "stdout",
     "output_type": "stream",
     "text": [
      "['paniz', 'saina', 'melika']\n",
      "saina is number 1 at your list\n",
      " ok have fun ;)))\n",
      "['paniz', 'saina', 'melika']\n"
     ]
    }
   ],
   "source": [
    "people_invited=[]\n",
    "for i in range (0,3):\n",
    "    people_invited.append(input(\"enter names of people that you want to  invite to party\"))\n",
    "    \n",
    "print(people_invited)\n",
    "A= input(\"enter a name among the names that shown to you\")\n",
    "print(A, \"is number\",people_invited.index(A),\"at your list\")\n",
    "B = input(\"Do you still want to invite \" + A + \"? \")\n",
    "\n",
    "if B==\"yes\" :\n",
    "    print(\" ok have fun ;)))\")\n",
    "else:\n",
    "    people_invited.remove(A)\n",
    "print(people_invited)"
   ]
  },
  {
   "cell_type": "markdown",
   "metadata": {},
   "source": [
    "# Q10:Create a list containing the titles of four TV programmes and display them on separate lines. Ask the user to enter another show and a position they want it inserted into the list. Display the list again, showing all five TV programmes in their new positions."
   ]
  },
  {
   "cell_type": "code",
   "execution_count": 19,
   "metadata": {},
   "outputs": [
    {
     "name": "stdout",
     "output_type": "stream",
     "text": [
      "cartoons\n",
      "weather\n",
      "action films\n",
      "news\n",
      "cartoons\n",
      "weather\n",
      "action films\n",
      "MUS\n",
      "news\n"
     ]
    }
   ],
   "source": [
    "programs= [\"cartoons\",\"weather\",\"action films\",\"news\"]\n",
    "for i in range (4):\n",
    "    print(programs[i])\n",
    "C= input(\"ENTER a new show\")\n",
    "D= int(input(\"the pos that you want to put it in(0-3)\"))\n",
    "programs.insert(D,C)\n",
    "for i in range (5):\n",
    "    \n",
    "    print(programs[i])\n"
   ]
  },
  {
   "cell_type": "markdown",
   "metadata": {},
   "source": [
    "# Q11:Create an empty list called “nums”.Ask the user to enter numbers.After each number is entered, add it to the end of the nums list and display the list. Once they have entered three numbers, ask them if they still want the last number they entered saved. If they say “no”, remove the last item from the list. Display the list of numbers"
   ]
  },
  {
   "cell_type": "code",
   "execution_count": 20,
   "metadata": {},
   "outputs": [
    {
     "name": "stdout",
     "output_type": "stream",
     "text": [
      "Current list of numbers: ['5']\n",
      "Current list of numbers: ['5', '2']\n",
      "Current list of numbers: ['5', '2', '4']\n",
      "Final list of numbers: ['5', '2', '4']\n"
     ]
    }
   ],
   "source": [
    "\n",
    "nums= [] \n",
    "    \n",
    "    \n",
    "while len(nums) < 3:\n",
    "    number= input(\"Please enter a number: \")\n",
    "    nums.append(number)  \n",
    "    print(\"Current list of numbers:\", nums)\n",
    "        \n",
    "    \n",
    "response = input(f\"Do you still want the last number you entered, {nums[-1]}, saved?\")\n",
    "if response.lower() == 'no':\n",
    "    nums.pop()  \n",
    "\n",
    "\n",
    "print(\"Final list of numbers:\", nums)\n",
    "\n"
   ]
  }
 ],
 "metadata": {
  "kernelspec": {
   "display_name": "Python 3",
   "language": "python",
   "name": "python3"
  },
  "language_info": {
   "codemirror_mode": {
    "name": "ipython",
    "version": 3
   },
   "file_extension": ".py",
   "mimetype": "text/x-python",
   "name": "python",
   "nbconvert_exporter": "python",
   "pygments_lexer": "ipython3",
   "version": "3.12.4"
  }
 },
 "nbformat": 4,
 "nbformat_minor": 2
}
