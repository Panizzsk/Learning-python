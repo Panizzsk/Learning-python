{
 "cells": [
  {
   "cell_type": "markdown",
   "metadata": {},
   "source": [
    "# Q1:\n",
    "Ask the user to enter\n",
    "their name and then\n",
    "display their name\n",
    "three times."
   ]
  },
  {
   "cell_type": "code",
   "execution_count": 2,
   "metadata": {},
   "outputs": [
    {
     "name": "stdout",
     "output_type": "stream",
     "text": [
      "PANIZ\n",
      "PANIZ\n",
      "PANIZ\n"
     ]
    }
   ],
   "source": [
    "NAME= input(\"ENTER YOUR NAME\")\n",
    "for i in range (0,3):\n",
    "    print(NAME)"
   ]
  },
  {
   "cell_type": "markdown",
   "metadata": {},
   "source": [
    "# Q2:\n",
    "Alter program 035 so that it will ask the user to enter their\n",
    "name and a number and then display their name that\n",
    "number of times."
   ]
  },
  {
   "cell_type": "code",
   "execution_count": 4,
   "metadata": {},
   "outputs": [
    {
     "name": "stdout",
     "output_type": "stream",
     "text": [
      "PANIZ\n",
      "PANIZ\n",
      "PANIZ\n",
      "PANIZ\n",
      "PANIZ\n",
      "PANIZ\n",
      "PANIZ\n",
      "PANIZ\n",
      "PANIZ\n",
      "PANIZ\n"
     ]
    }
   ],
   "source": [
    "NAME= input(\"ENTER YOUR NAME\")\n",
    "NUM= int(input(\"ENTER A NUMBER\"))\n",
    "for i in range (0,NUM):\n",
    "    print(NAME)"
   ]
  },
  {
   "cell_type": "markdown",
   "metadata": {},
   "source": [
    "# Q3:\n",
    "Ask the user to enter their name and display each letter in\n",
    "their name on a separate line."
   ]
  },
  {
   "cell_type": "code",
   "execution_count": 7,
   "metadata": {},
   "outputs": [
    {
     "name": "stdout",
     "output_type": "stream",
     "text": [
      "P\n",
      "A\n",
      "N\n",
      "I\n",
      "Z\n"
     ]
    }
   ],
   "source": [
    "NAME= input(\"ENTER YOUR NAME\")\n",
    "for i in NAME:\n",
    "    print(i)\n",
    "    "
   ]
  },
  {
   "cell_type": "markdown",
   "metadata": {},
   "source": [
    "# Q4:\n",
    "Change program\n",
    "037 to also ask for a\n",
    "number. Display\n",
    "their name (one\n",
    "letter at a time on\n",
    "each line) and\n",
    "repeat this for the\n",
    "number of times\n",
    "they entered."
   ]
  },
  {
   "cell_type": "code",
   "execution_count": 10,
   "metadata": {},
   "outputs": [
    {
     "name": "stdout",
     "output_type": "stream",
     "text": [
      "p\n",
      "a\n",
      "n\n",
      "i\n",
      "z\n",
      "p\n",
      "a\n",
      "n\n",
      "i\n",
      "z\n",
      "p\n",
      "a\n",
      "n\n",
      "i\n",
      "z\n",
      "p\n",
      "a\n",
      "n\n",
      "i\n",
      "z\n",
      "p\n",
      "a\n",
      "n\n",
      "i\n",
      "z\n",
      "p\n",
      "a\n",
      "n\n",
      "i\n",
      "z\n",
      "p\n",
      "a\n",
      "n\n",
      "i\n",
      "z\n",
      "p\n",
      "a\n",
      "n\n",
      "i\n",
      "z\n"
     ]
    }
   ],
   "source": [
    "NAME= input(\"ENTER YOUR NAME\")\n",
    "NUMBER= int(input(\"ENTER A NUMBER\"))\n",
    "for n in range (0,NUMBER):\n",
    "    for i in NAME:\n",
    "        print(i)\n"
   ]
  },
  {
   "cell_type": "markdown",
   "metadata": {},
   "source": [
    "# Q5:\n",
    "Ask the user to enter a number between 1\n",
    "and 12 and then display the times table for\n",
    "that number."
   ]
  },
  {
   "cell_type": "code",
   "execution_count": 16,
   "metadata": {},
   "outputs": [
    {
     "name": "stdout",
     "output_type": "stream",
     "text": [
      "TIME TABLE THAT YOU WANT:\n",
      "1 . 12 = 12\n",
      "2 . 12 = 24\n",
      "3 . 12 = 36\n",
      "4 . 12 = 48\n",
      "5 . 12 = 60\n",
      "6 . 12 = 72\n",
      "7 . 12 = 84\n",
      "8 . 12 = 96\n",
      "9 . 12 = 108\n",
      "10 . 12 = 120\n",
      "11 . 12 = 132\n",
      "12 . 12 = 144\n"
     ]
    }
   ],
   "source": [
    "N= int(input(\"ENTER A NUMBER BETWEEN  1 AND 12\"))\n",
    "print(\"TIME TABLE THAT YOU WANT:\")\n",
    "for i in range (1,13) :\n",
    "    ans= N*i\n",
    "    print( i,\".\",N,\"=\",ans)\n"
   ]
  },
  {
   "cell_type": "markdown",
   "metadata": {},
   "source": [
    "# Q6:\n",
    "Ask for a number below 50 and then count down from\n",
    "50 to that number, making sure you show the number\n",
    "they entered in the output."
   ]
  },
  {
   "cell_type": "code",
   "execution_count": 23,
   "metadata": {},
   "outputs": [
    {
     "name": "stdout",
     "output_type": "stream",
     "text": [
      "50\n",
      "49\n",
      "48\n"
     ]
    }
   ],
   "source": [
    "W= int(input(\"enter a number below 50\"))\n",
    "for i in range (50,W-1,-1):\n",
    "    print(i)"
   ]
  },
  {
   "cell_type": "markdown",
   "metadata": {},
   "source": [
    "# Q7:\n",
    "Ask the user to enter their\n",
    "name and a number. If the\n",
    "number is less than 10, then\n",
    "display their name that\n",
    "number of times; otherwise\n",
    "display the message “Too\n",
    "high” three times."
   ]
  },
  {
   "cell_type": "code",
   "execution_count": 26,
   "metadata": {},
   "outputs": [
    {
     "name": "stdout",
     "output_type": "stream",
     "text": [
      "too high\n",
      "too high\n",
      "too high\n"
     ]
    }
   ],
   "source": [
    "your_name= input(\"enter your name\")\n",
    "fucking_num= int(input(\"enter a number\"))\n",
    "if fucking_num<10 :\n",
    "    for i in range (fucking_num):\n",
    "        print(your_name)\n",
    "else:\n",
    "    for i in range(3):\n",
    "        print(\"too high\")"
   ]
  },
  {
   "cell_type": "markdown",
   "metadata": {},
   "source": [
    "# Q8:\n",
    "Set a variable called total to 0. Ask the user to enter\n",
    "five numbers and after each input ask them if they\n",
    "want that number included. If they do, then add the\n",
    "number to the total. If they do not want it included,\n",
    "don’t add it to the total. After they have entered all five\n",
    "numbers, display the tota"
   ]
  },
  {
   "cell_type": "code",
   "execution_count": null,
   "metadata": {},
   "outputs": [],
   "source": [
    "total=0\n",
    "for i in range (5):\n",
    "    num= int(input(\"enter a number\"))\n",
    "    answer= input(\"do you want that number included?\")\n",
    "    \n",
    "    if answer==\"yes\" :\n",
    "        total+=num\n",
    "    elif answer==\"no\":\n",
    "        total=total\n",
    "    else:\n",
    "        print(\"Invalid input. Please respond with 'yes' or 'no'.\")\n",
    "        break\n",
    "print(\"total is:\", total)"
   ]
  },
  {
   "cell_type": "markdown",
   "metadata": {},
   "source": [
    "# Q9:\n",
    "Ask which direction the user wants to count (up or down). If they select up, then ask\n",
    "them for the top number and then count from 1 to that number. If they select down, ask\n",
    "them to enter a number below 20 and then count down from 20 to that number. If they\n",
    "entered something other than up or down, display the message “I don’t understand”."
   ]
  },
  {
   "cell_type": "code",
   "execution_count": 17,
   "metadata": {},
   "outputs": [
    {
     "name": "stdout",
     "output_type": "stream",
     "text": [
      "1\n",
      "2\n",
      "3\n",
      "4\n"
     ]
    }
   ],
   "source": [
    "ans= input(\"WICH DIRECTION DO YOU WANT UP OR DOWN?\").strip().lower()\n",
    "\n",
    "if ans==\"up\":\n",
    "    upp= int(input(\"enter the top number\"))\n",
    "    for i in range (1, upp+1):\n",
    "        print(i)\n",
    "elif ans== \"down\" :\n",
    "    down= int(input(\"enter a number below 20\"))\n",
    "    for i in  range (20,down-1,-1):\n",
    "        print(i)\n",
    "else:\n",
    "    print(\"i don't understand\")\n",
    "\n",
    "\n"
   ]
  },
  {
   "cell_type": "markdown",
   "metadata": {},
   "source": [
    "# Q10:\n",
    "Ask how many people the user wants to invite to a party. If they enter a number below\n",
    "10, ask for the names and after each name display “[name] has been invited”. If they\n",
    "enter a number which is 10 or higher, display the message “Too many people”."
   ]
  },
  {
   "cell_type": "code",
   "execution_count": 20,
   "metadata": {},
   "outputs": [
    {
     "name": "stdout",
     "output_type": "stream",
     "text": [
      "too many people\n"
     ]
    }
   ],
   "source": [
    "guests= int(input(\"how many people invited to party?\"))\n",
    "if guests<10 :\n",
    "    for i in range  (guests):\n",
    "        names= input(\"enter their names\")\n",
    "        print(names,\"has been invited\")\n",
    "else:\n",
    "    print(\"too many people\")\n"
   ]
  }
 ],
 "metadata": {
  "kernelspec": {
   "display_name": "paniz",
   "language": "python",
   "name": "python3"
  },
  "language_info": {
   "codemirror_mode": {
    "name": "ipython",
    "version": 3
   },
   "file_extension": ".py",
   "mimetype": "text/x-python",
   "name": "python",
   "nbconvert_exporter": "python",
   "pygments_lexer": "ipython3",
   "version": "3.12.4"
  }
 },
 "nbformat": 4,
 "nbformat_minor": 2
}
