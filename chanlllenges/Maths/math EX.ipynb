{
 "cells": [
  {
   "cell_type": "markdown",
   "metadata": {},
   "source": [
    "# Q1:\n",
    "Ask the user to enter a\n",
    "number with lots of\n",
    "decimal places. Multiply\n",
    "this number by two and\n",
    "display the answer"
   ]
  },
  {
   "cell_type": "code",
   "execution_count": 2,
   "metadata": {},
   "outputs": [],
   "source": [
    "import math "
   ]
  },
  {
   "cell_type": "code",
   "execution_count": 1,
   "metadata": {},
   "outputs": [
    {
     "name": "stdout",
     "output_type": "stream",
     "text": [
      "8.44933858566873\n"
     ]
    }
   ],
   "source": [
    "A= float(input(\"enter a number with high accuracy\"))\n",
    "B= A+2\n",
    "print(B)"
   ]
  },
  {
   "cell_type": "markdown",
   "metadata": {},
   "source": [
    "# Q2:\n",
    "Update program 027 so that it will display the answer to\n",
    "two decimal places."
   ]
  },
  {
   "cell_type": "code",
   "execution_count": null,
   "metadata": {},
   "outputs": [
    {
     "name": "stdout",
     "output_type": "stream",
     "text": [
      "7.77\n"
     ]
    }
   ],
   "source": [
    "A= float(input(\"enter a number with high accuracy\"))\n",
    "B= A+2\n",
    "print(round(B,2))"
   ]
  },
  {
   "cell_type": "markdown",
   "metadata": {},
   "source": [
    "# Q3:\n",
    "Ask the user to enter an integer that is over 500. Work\n",
    "out the square root of that number and display it to two\n",
    "decimal places"
   ]
  },
  {
   "cell_type": "code",
   "execution_count": 6,
   "metadata": {},
   "outputs": [
    {
     "name": "stdout",
     "output_type": "stream",
     "text": [
      "28.28\n"
     ]
    }
   ],
   "source": [
    "A= int(input(\"enter an integer number over 500\"))\n",
    "B= math.sqrt(A)\n",
    "print(round(B,2))\n"
   ]
  },
  {
   "cell_type": "markdown",
   "metadata": {},
   "source": [
    "# Q4:\n",
    "Ask the user to enter the radius of a circle\n",
    "(measurement from the centre point to the edge). Work\n",
    "out the area of the circle (π*radius2)."
   ]
  },
  {
   "cell_type": "code",
   "execution_count": 4,
   "metadata": {},
   "outputs": [
    {
     "name": "stdout",
     "output_type": "stream",
     "text": [
      "84.94866535306801\n"
     ]
    }
   ],
   "source": [
    "r= float(input(\"enter the radius of a circle\"))\n",
    "s= (math.pi)*r**2\n",
    "print(s)\n"
   ]
  },
  {
   "cell_type": "markdown",
   "metadata": {},
   "source": [
    "# Q5:\n",
    "Ask for the radius and the depth of a cylinder\n",
    "and work out the total volume (circle\n",
    "area*depth) rounded to three decimal\n",
    "places."
   ]
  },
  {
   "cell_type": "code",
   "execution_count": 5,
   "metadata": {},
   "outputs": [
    {
     "name": "stdout",
     "output_type": "stream",
     "text": [
      "977.161\n"
     ]
    }
   ],
   "source": [
    "r= float(input(\"enter radius\"))\n",
    "h= float(input(\"enter depth\"))\n",
    "s= (math.pi)*r**2\n",
    "v= s*h\n",
    "print(round(v,3))\n"
   ]
  },
  {
   "cell_type": "markdown",
   "metadata": {},
   "source": [
    "# Q6:\n",
    "Ask the user to enter two numbers.\n",
    "Use whole number division to divide\n",
    "the first number by the second and\n",
    "also work out the remainder and\n",
    "display the answer in a user-friendly\n",
    "way (e.g. if they enter 7 and 2 display\n",
    "“7 divided by 2 is 3 with 1\n",
    "remaining”)"
   ]
  },
  {
   "cell_type": "code",
   "execution_count": 10,
   "metadata": {},
   "outputs": [
    {
     "name": "stdout",
     "output_type": "stream",
     "text": [
      "10 divided by 3  is 3  with 1 remaining\n"
     ]
    }
   ],
   "source": [
    "A= int(input(\"ENTER A NUMBER\"))\n",
    "B= int(input(\"ENTER SECOND NUMBER\"))\n",
    "C= A//B\n",
    "D=A%B\n",
    "print(A,\"divided by\", B,\" is\",C,\" with\", D,\"remaining\")\n"
   ]
  },
  {
   "cell_type": "markdown",
   "metadata": {},
   "source": [
    "# Q7:\n",
    "Display the following message:\n",
    "1) Square\n",
    "2) Triangle\n",
    "Enter a number:\n",
    "If the user enters 1, then it should ask them for\n",
    "the length of one of its sides and display the\n",
    "area. If they select 2, it should ask for the base\n",
    "and height of the triangle and display the area. If\n",
    "they type in anything else, it should give them a\n",
    "suitable error message."
   ]
  },
  {
   "cell_type": "code",
   "execution_count": 13,
   "metadata": {},
   "outputs": [
    {
     "name": "stdout",
     "output_type": "stream",
     "text": [
      "PLEASE JUST ENTER 1 OR 2\n"
     ]
    }
   ],
   "source": [
    "A= input(\"1) Square \\n 2) Triangle,Enter a number:\")\n",
    "if A==\"1\":\n",
    "    a= float(input(\"enter the length of one of sides\"))\n",
    "    s= float(a**2)\n",
    "    print(s)\n",
    "elif A==\"2\":\n",
    "    H= float(input(\"enter height of triangle\"))\n",
    "    b= float(input(\"enter the base of triangle\"))\n",
    "    S= float(0.5*H*b)\n",
    "    print(S)\n",
    "else:\n",
    "    print(\"PLEASE JUST ENTER 1 OR 2\")\n"
   ]
  }
 ],
 "metadata": {
  "kernelspec": {
   "display_name": "paniz",
   "language": "python",
   "name": "python3"
  },
  "language_info": {
   "codemirror_mode": {
    "name": "ipython",
    "version": 3
   },
   "file_extension": ".py",
   "mimetype": "text/x-python",
   "name": "python",
   "nbconvert_exporter": "python",
   "pygments_lexer": "ipython3",
   "version": "3.12.4"
  }
 },
 "nbformat": 4,
 "nbformat_minor": 2
}
